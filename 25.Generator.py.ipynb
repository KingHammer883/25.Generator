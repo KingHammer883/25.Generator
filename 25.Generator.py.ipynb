{
 "cells": [
  {
   "cell_type": "code",
   "execution_count": 1,
   "metadata": {
    "ExecuteTime": {
     "end_time": "2019-01-26T02:36:31.036800Z",
     "start_time": "2019-01-26T02:36:27.317197Z"
    }
   },
   "outputs": [
    {
     "name": "stdout",
     "output_type": "stream",
     "text": [
      "Enter the number of sentences: 5\n",
      "THE BAT A A BAT BY A BALL\n",
      "A BALL THE A GIRL BY THE BOY\n",
      "THE BALL A A GIRL WITH A GIRL\n",
      "A BOY A THE BOY WITH A BALL\n",
      "A GIRL THE A BAT BY THE GIRL\n"
     ]
    }
   ],
   "source": [
    "# -*- coding: utf-8 -*-\n",
    "\"\"\"\n",
    "Created on Fri Jan 25, 2019\n",
    "File: Generator.py\n",
    "\n",
    "Generates and displays sentences using simple gramma\n",
    "and vocabulary. Words are chosen at random.\n",
    "\n",
    "@author: Byen23\n",
    "\"\"\"\n",
    "\n",
    "# Request\n",
    "\"\"\"Write a program that generates sentences.\"\"\"\n",
    "\n",
    "# Analysts\n",
    "\"\"\"Sentences in any language have a structure defined by a grammar. They also include a set of words from the vocabulary of the language. The vocabulary of a language like English consists of many thousands of words, and the grammar rules are quite complex. For the sake of simplicity our program will generate sentences from a simplified subset of English. The vocabulary will consist of sample words from several parts of speech, including nouns, verbs, articales, and prepositions. From these words, you can build noun phrases, prepositional phrases, and verb phrases. From these constituent phrases, you can build sentences. FOr example, the sentence \"The girl hit-the ball with the bat\" contains three noun phrases, one verb phrase, and one prepositional phrase.\"\"\"\n",
    "\n",
    "\"\"\"\n",
    "Phrase: Sentence, Noun phrase, Verb Phrase, Prepositional phrase.   \n",
    "Its Constituents: Noun phrase + Verb Phrase, Article + Noun\n",
    "\t\t          Verb + Noun phrase + Prepositional phrase\n",
    "\t\t\t\t  Prepositional + Noun phrase.\t           \n",
    "\"\"\"\n",
    "\"\"\"\n",
    "The rule for Noun phrase says that is an Article is followed by (+) a Noun. Thus, a possible noun phrase is \"the bat.\" Note that some of the phrases in the left column of Table 5-3 also appear in the right columns as contituents of other phrases. Although this grammar is much simpler than the complete set of rules for English grammar, you should still be able to generate sentences with quite a bit of structure.\n",
    "\n",
    "The program will prompt the user for the number of sentences to generate. The proposed user interface follows:\n",
    "\t\n",
    "\tEnter the number of sentences: 5 \n",
    "Outputs-->\tA GIRL A A GIRL BY THE BALL\n",
    "Outputs--> \tA BOY THE THE GIRL WITH A GIRL\n",
    "Outputs--> \tTHE BOY A THE BOY WITH THE BOY\n",
    "Outputs--> \tTHE BOY A A BALL BY A GIRL\n",
    "Outputs--> \tA BALL A THE GIRL BY A BAT\n",
    "\t\n",
    "\tEnter the number of sentences: 3\n",
    "Outputs--> \tA BAT A THE BALL WITH THE BALL\n",
    "Outputs--> \tA BAT A THE BAT WITH A BAT\n",
    "Outputs--> \tA GIRL A THE BALL WITH A BAT\n",
    "\n",
    "\"\"\"\n",
    "# Design \n",
    "\"\"\"\n",
    "Of the many ways to solve the problem in this case study, perhaps the simplest is to assign the task of generating each phrase to a separate function. Each function builds, and returns a string that represents its phrase. This string contains words drawn from the parts of speech and from other phrases. When a function needs an individual word, it is selected at random from the words in that part of speech. When a function needs another phrase, it calls another function to build that phrase. The results, all strings, are concatenated with spaces and returned.\n",
    "\n",
    "The function for Sentences is the easiest. It just calls the function for Noun phrase and Verb phrase and concatenate the results, as in the following:\n",
    "\"\"\"\n",
    "# Implementation (Coding)\n",
    "\"\"\"When function use a common pool of datam you should define or initialize the data before the function are defined. Thus, the variables for the data are intialized just below the import statement.\"\"\"\n",
    "\n",
    "import random\n",
    "\n",
    "# Vocabulary words in 4 different parts of speech\n",
    "articles \t\t= (\"A\", \"THE\")\n",
    "nouns \t\t\t= (\"BOY\", \"GIRL\", \"BAT\", \"BALL\")\n",
    "verbs \t\t\t= (\"HIT\", \"SAW\", \"LIKED\")\n",
    "prepositions \t= (\"WITH\", \"BY\")\n",
    "\n",
    "def sentence():\n",
    "\t\"\"\"Builds and returns a sentence.\"\"\"\n",
    "\treturn nounPhrase() + \" \" + verbPhrase()\n",
    "\n",
    "\"\"\"The function for Noun phrase picks an article and a noun at random from the vocabulary, concatenates them, and returns the result. We assume that the variables articles and nouns refer to collections of these parts of speech and develop these later in the design. The function random.choice returns a random element from such a collection.\"\"\"\n",
    "\n",
    "def nounPhrase():\n",
    "\t\"\"\"Builds and returns a noun phrase.\"\"\"\n",
    "\treturn random.choice(articles) + \" \" + random.choice(nouns)\n",
    "\n",
    "\"\"\"The design of the remaining two phrase structure function is similiar.\n",
    "The main funciton drives the program with a count-controlled loop:\"\"\"\n",
    "\n",
    "def verbPhrase():\n",
    "\t\"\"\"Builds and returns a noun phrase.\"\"\"\n",
    "\treturn random.choice(articles) + \" \" + nounPhrase() + \" \" + \t \t\t   prepositionalPhrase()\n",
    "\t\t   \n",
    "def prepositionalPhrase():\n",
    "\t\"\"\"Builds and reutnrs a prepositional phrase.\"\"\"\n",
    "\treturn random.choice(prepositions) + \" \" + nounPhrase()\n",
    "\t\t          \n",
    "def main():\n",
    "\t\"\"\"Allows the user to input the number of sentences to generate.\"\"\"\n",
    "\tnumber = int(input(\"Enter the number of sentences: \"))\n",
    "\tfor count in range(number):\n",
    "\t\tprint(sentence())\n",
    "\n",
    "# The entry point for program execution\n",
    "if __name__ == \"__main__\":\n",
    "\tmain()"
   ]
  }
 ],
 "metadata": {
  "kernelspec": {
   "display_name": "Python 3",
   "language": "python",
   "name": "python3"
  },
  "language_info": {
   "codemirror_mode": {
    "name": "ipython",
    "version": 3
   },
   "file_extension": ".py",
   "mimetype": "text/x-python",
   "name": "python",
   "nbconvert_exporter": "python",
   "pygments_lexer": "ipython3",
   "version": "3.6.8"
  }
 },
 "nbformat": 4,
 "nbformat_minor": 2
}
